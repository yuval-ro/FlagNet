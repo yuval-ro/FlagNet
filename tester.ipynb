{
 "cells": [
  {
   "cell_type": "code",
   "execution_count": 1,
   "metadata": {},
   "outputs": [
    {
     "name": "stdout",
     "output_type": "stream",
     "text": [
      "\u001b[32mdone.               \u001b[0m\n"
     ]
    }
   ],
   "source": [
    "'''Importing Modules'''\n",
    "\n",
    "'''\n",
    "Prerequisites:\n",
    "NumPy             https://numpy.org/doc/stable/\n",
    "Matplotlib        https://matplotlib.org/stable/index.html\n",
    "PyTorch           https://pytorch.org/docs/stable/index.html\n",
    "Torchvision       https://pytorch.org/docs/stable/index.html\n",
    "PIL               https://pillow.readthedocs.io/en/stable/\n",
    "GitPython         https://gitpython.readthedocs.io/en/stable/\n",
    "split-folders:    https://pypi.org/project/split-folders/\n",
    "python-dotenv:    https://pypi.org/project/python-dotenv/\n",
    "'''\n",
    "\n",
    "# vanilla:\n",
    "import os\n",
    "import json\n",
    "import time\n",
    "from time import strptime\n",
    "import datetime\n",
    "from datetime import timedelta\n",
    "import shutil\n",
    "from collections import OrderedDict\n",
    "import random\n",
    "import sys\n",
    "# external:\n",
    "import numpy as np\n",
    "import matplotlib.pyplot as plt\n",
    "import torch\n",
    "import torch.nn as nn\n",
    "import torch.optim as optim\n",
    "import torch.nn.functional as F\n",
    "from torch.autograd import Variable\n",
    "import torchvision\n",
    "from torchvision import datasets, transforms, models\n",
    "import PIL.Image as Image\n",
    "import git\n",
    "import splitfolders\n",
    "from dotenv import load_dotenv\n",
    "# custom:\n",
    "from routines import *\n",
    "from displays import *\n",
    "import myTransforms\n",
    "\n",
    "println([('done.', 'g')])"
   ]
  },
  {
   "cell_type": "code",
   "execution_count": 49,
   "metadata": {},
   "outputs": [
    {
     "name": "stdout",
     "output_type": "stream",
     "text": [
      "\u001b[33mlooking for image files in './input/'...\u001b[0m\n",
      "\u001b[1m#                   \u001b[1mfilename            \u001b[1mheight              \u001b[1mwidth               \u001b[1mcolor               \u001b[0m\n",
      "\u001b[0m\u001b[0m1                   \u001b[0m\u001b[0m1.jpg               \u001b[0m\u001b[0m900                 \u001b[0m\u001b[0m1200                \u001b[0m\u001b[0mrgb                 \u001b[0m\n",
      "\u001b[0m\u001b[0m2                   \u001b[0m\u001b[0m2.png               \u001b[0m\u001b[0m427                 \u001b[0m\u001b[0m640                 \u001b[0m\u001b[0mgreyscale           \u001b[0m\n",
      "\u001b[32mdone.               \u001b[0m\n"
     ]
    }
   ],
   "source": [
    "'''Parsing the Input Directory Supplied by the User'''\n",
    "\n",
    "valid_filetypes = ('.jpg', '.png', '.jpeg')\n",
    "input_path = './input/'\n",
    "files = []\n",
    "bad_files = []\n",
    "\n",
    "println([(f'looking for image files in \\'{input_path}\\'...', 'y')])\n",
    "\n",
    "\n",
    "no_dir = False\n",
    "no_files = False\n",
    "\n",
    "try:\n",
    "    for file in os.listdir(input_path):\n",
    "        if file.endswith(valid_filetypes):\n",
    "            files.append(file)\n",
    "        else:\n",
    "            bad_files.append(file)\n",
    "except FileNotFoundError as e:\n",
    "    no_dir = True\n",
    "\n",
    "if no_dir:\n",
    "    e_msg = 'cannot find the input directory (it must be named \\'input\\' and be in root)'\n",
    "    raise SystemExit(e_msg)\n",
    "\n",
    "if bad_files != []:\n",
    "    e_msg = f'invalid files were found in input the directory, please remove them:\\n{bad_files}'\n",
    "    raise SystemExit(e_msg)\n",
    "\n",
    "if files == []:\n",
    "    e_msg = 'cannot find any image files in the input directory'\n",
    "    raise SystemExit(e_msg)\n",
    "\n",
    "\n",
    "println(['#', 'filename', 'height', 'width', 'color'], header=True)    \n",
    "for idx, file in enumerate(files):\n",
    "    img = Image.open(input_path + file)\n",
    "    tensor = transforms.Compose([transforms.PILToTensor()])(img)\n",
    "    color = 'rgb' if len(tensor)==3 else 'greyscale'\n",
    "    height = len(tensor[0])\n",
    "    width = len(tensor[0][0])\n",
    "    println([idx + 1, file, height, width, color])\n",
    "\n",
    "\n",
    "println([('done.', 'g')])"
   ]
  },
  {
   "cell_type": "code",
   "execution_count": null,
   "metadata": {},
   "outputs": [],
   "source": [
    "'''Instaciating Our Model'''\n",
    "\n",
    "checkpoints_path = './checkpoints'\n",
    "\n",
    "println([(f'looking for a \\'.pth\\' file in \\'{checkpoints_path}\\'...', 'y')])\n",
    "\n",
    "try:\n",
    "    for file in os.listdir(input_path):\n",
    "        if file.endswith(valid_filetypes):\n",
    "            files.append(file)\n",
    "        else:\n",
    "            bad_files.append(file)\n",
    "except FileNotFoundError as e:\n",
    "    no_dir = True"
   ]
  }
 ],
 "metadata": {
  "kernelspec": {
   "display_name": "base",
   "language": "python",
   "name": "python3"
  },
  "language_info": {
   "codemirror_mode": {
    "name": "ipython",
    "version": 3
   },
   "file_extension": ".py",
   "mimetype": "text/x-python",
   "name": "python",
   "nbconvert_exporter": "python",
   "pygments_lexer": "ipython3",
   "version": "3.9.13"
  },
  "orig_nbformat": 4,
  "vscode": {
   "interpreter": {
    "hash": "a077222d77dfe082b8f1dd562ad70e458ac2ab76993a0b248ab0476e32e9e8dd"
   }
  }
 },
 "nbformat": 4,
 "nbformat_minor": 2
}
