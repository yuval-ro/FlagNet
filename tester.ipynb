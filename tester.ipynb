{
 "cells": [
  {
   "cell_type": "code",
   "execution_count": null,
   "metadata": {},
   "outputs": [],
   "source": [
    "'''Importing Modules'''\n",
    "\n",
    "'''\n",
    "Prerequisites:\n",
    "NumPy             https://numpy.org/doc/stable/\n",
    "Matplotlib        https://matplotlib.org/stable/index.html\n",
    "PyTorch           https://pytorch.org/docs/stable/index.html\n",
    "Torchvision       https://pytorch.org/docs/stable/index.html\n",
    "PIL               https://pillow.readthedocs.io/en/stable/\n",
    "GitPython         https://gitpython.readthedocs.io/en/stable/\n",
    "split-folders:    https://pypi.org/project/split-folders/\n",
    "python-dotenv:    https://pypi.org/project/python-dotenv/\n",
    "'''\n",
    "\n",
    "# vanilla:\n",
    "import os\n",
    "import json\n",
    "import time\n",
    "from time import strptime\n",
    "import datetime\n",
    "from datetime import timedelta\n",
    "import shutil\n",
    "from collections import OrderedDict\n",
    "import random\n",
    "import sys\n",
    "# external:\n",
    "import numpy as np\n",
    "import matplotlib.pyplot as plt\n",
    "import torch\n",
    "import torch.nn as nn\n",
    "import torch.optim as optim\n",
    "import torch.nn.functional as F\n",
    "from torch.autograd import Variable\n",
    "import torchvision\n",
    "from torchvision import datasets, transforms, models\n",
    "import PIL.Image as Image\n",
    "import git\n",
    "import splitfolders\n",
    "from dotenv import load_dotenv\n",
    "# custom:\n",
    "from routines import *\n",
    "from displays import *\n",
    "import myTransforms\n",
    "\n",
    "println([('done.', 'g')])"
   ]
  },
  {
   "cell_type": "code",
   "execution_count": null,
   "metadata": {},
   "outputs": [],
   "source": [
    "'''Parsing the Directory Supplied by User'''\n",
    "\n"
   ]
  }
 ],
 "metadata": {
  "kernelspec": {
   "display_name": "base",
   "language": "python",
   "name": "python3"
  },
  "language_info": {
   "name": "python",
   "version": "3.9.13 (main, Aug 25 2022, 23:51:50) [MSC v.1916 64 bit (AMD64)]"
  },
  "orig_nbformat": 4,
  "vscode": {
   "interpreter": {
    "hash": "a077222d77dfe082b8f1dd562ad70e458ac2ab76993a0b248ab0476e32e9e8dd"
   }
  }
 },
 "nbformat": 4,
 "nbformat_minor": 2
}
