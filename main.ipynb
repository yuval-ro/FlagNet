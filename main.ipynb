{
 "cells": [
  {
   "cell_type": "code",
   "execution_count": 2,
   "id": "f9a4dfb1-584f-4c6e-b39a-c32fc1863ec1",
   "metadata": {},
   "outputs": [],
   "source": [
    "import os\n",
    "\n",
    "import numpy as np\n",
    "\n",
    "import matplotlib.pyplot as plt\n",
    "\n",
    "import torch\n",
    "import torch.nn as nn\n",
    "import torch.optim as optim\n",
    "import torch.nn.functional as F\n",
    "from torch.autograd import Variable as var\n",
    "\n",
    "import torchvision\n",
    "from torchvision import datasets, transforms, models\n",
    "\n",
    "import collections\n",
    "\n",
    "import json\n",
    "\n",
    "import time\n",
    "import datetime\n",
    "\n",
    "import PIL.Image as img\n",
    "\n",
    "from collections import OrderedDict"
   ]
  },
  {
   "cell_type": "code",
   "execution_count": 2,
   "id": "5e2aa396",
   "metadata": {},
   "outputs": [],
   "source": [
    "def fun(input, color=_):\n",
    "    s = str(input)\n",
    "    if color == 'red':\n",
    "        s = '\\033[91m' + s\n",
    "    if color == 'green':\n",
    "        s = '\\033[92m' + s\n",
    "    return s + '\\033[0m'\n",
    "\n",
    "def cmd(command):\n",
    "    os.system(f'cmd /c \\\"{command}\\\"')"
   ]
  },
  {
   "cell_type": "code",
   "execution_count": 4,
   "id": "0e5fa87d",
   "metadata": {},
   "outputs": [],
   "source": [
    "path = 'FlagNet_data'\n",
    "token = '6k2wkUdrjTGbOzuWXfTVciCT0Rd3TV14urIH'\n",
    "repo = f'https://ghp_{token}@github.com/yuval-ro/FlagNet_data.git'\n",
    "\n",
    "cmd(f'git clone {repo} {path}')\n",
    "cmd(f'del {path}\\\\.gitignore')\n",
    "cmd(f'del {path}\\\\README.md')"
   ]
  },
  {
   "cell_type": "code",
   "execution_count": null,
   "id": "84a41e81-7b80-4b39-be79-c40461103f44",
   "metadata": {},
   "outputs": [],
   "source": [
    "# Dataset sanity check and display:\n",
    "IMAGES_PER_CLASS = 30\n",
    "dataset_dir = 'repo\\\\dataset'\n",
    "classes_json = 'repo\\\\classes.json'\n",
    "images_per_class = []\n",
    "bad_dirs = []\n",
    "json_ne_dirs = False\n",
    "\n",
    "# Locates and parses the \"classes.json\" file:\n",
    "try:\n",
    "    with open(classes_json, 'r') as f:\n",
    "        classes = OrderedDict(json.load(f))\n",
    "        dir_names = [dataset_dir + '\\\\%.2d' % i for i in range(1, len(classes) + 1)]\n",
    "except FileNotFoundError:\n",
    "    pass\n",
    "\n",
    "# Checks the number of classes defined in the json equal to number of classes subdirs:\n",
    "if len(os.listdir(dataset_dir)) != len(classes):\n",
    "    json_ne_dirs=True\n",
    "\n",
    "# Checks the number of images of each class subdir:\n",
    "for dir_tuple in os.walk(dataset_dir):\n",
    "    if dir_tuple[0] in dir_names: # skips junk directories\n",
    "        images_in_dir = len(dir_tuple[2])\n",
    "        images_per_class.append(images_in_dir)\n",
    "        if images_in_dir != IMAGES_PER_CLASS:\n",
    "            bad_dirs.append(dir_tuple[0])\n",
    "\n",
    "# Displays the metadata nicely:\n",
    "def println(s1='', s2='', s3='', bold=False):\n",
    "    if bold:\n",
    "        print('\\033[1m', end='')\n",
    "    print(  '{0:<20}'.format(s1),\n",
    "            '{0:<20}'.format(s2),\n",
    "            '{0:<20}'.format(s3))\n",
    "    if bold:\n",
    "        print('\\033[0m', end='')\n",
    "\n",
    "println('id', 'class', 'images', bold=True)\n",
    "\n",
    "for i, (ID, Class) in enumerate(classes.items()):\n",
    "    println(ID,\n",
    "            Class.upper() if Class in ['uk','usa'] else Class.capitalize(),\n",
    "            images_per_class[i] if images_per_class[i] == IMAGES_PER_CLASS else fun(images_per_class[i], color='red'))\n",
    "println(s3='total', bold=True)\n",
    "println(s3=(sum(images_per_class)) if sum(images_per_class) == (len(classes) * IMAGES_PER_CLASS) else fun(sum(images_per_class), color='red'))\n",
    "\n",
    "# Throws exceptions if needed:\n",
    "if json_ne_dirs:\n",
    "    raise SystemExit(f'number of classes according to the json file ({len(classes)}) does not correlate with total dirs ({len(os.listdir(dataset_dir))}) in \\\"{dataset_dir}\\\"')\n",
    "elif bad_dirs != []:\n",
    "    raise SystemExit(f'image count in the following directories is incorrect: {bad_dirs}')\n",
    "else:\n",
    "    println(s3=fun('all okay!', color='green'), bold=True)"
   ]
  }
 ],
 "metadata": {
  "kernelspec": {
   "display_name": "base",
   "language": "python",
   "name": "python3"
  },
  "language_info": {
   "codemirror_mode": {
    "name": "ipython",
    "version": 3
   },
   "file_extension": ".py",
   "mimetype": "text/x-python",
   "name": "python",
   "nbconvert_exporter": "python",
   "pygments_lexer": "ipython3",
   "version": "3.9.13"
  },
  "vscode": {
   "interpreter": {
    "hash": "ad2bdc8ecc057115af97d19610ffacc2b4e99fae6737bb82f5d7fb13d2f2c186"
   }
  }
 },
 "nbformat": 4,
 "nbformat_minor": 5
}
